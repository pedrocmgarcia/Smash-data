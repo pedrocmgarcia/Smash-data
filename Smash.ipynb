{
 "cells": [
  {
   "cell_type": "code",
   "execution_count": 104,
   "id": "61b78e9a-ddaf-4265-be4c-f3aa5b1a8e83",
   "metadata": {},
   "outputs": [],
   "source": [
    "import requests\n",
    "import pandas as pd\n",
    "\n",
    "token = \"243c4775727d1020f3088e838b2cd789\"\n",
    "\n",
    "id_dh = 1014700\n",
    "id_dede = 28244\n",
    "id_mafe = 83270\n",
    "\n",
    "url = \"https://api.start.gg/gql/alpha\"\n",
    "\n",
    "# Headers com o token de API incluído\n",
    "headers = {\n",
    "    'Authorization': f'Bearer {token}',\n",
    "    'Content-Type': 'application/json',\n",
    "    'Cookie': 'MUID=245FA46249BC61152B99B08E48AE60F8; _EDGE_S=F=1; _EDGE_V=1'\n",
    "}"
   ]
  },
  {
   "cell_type": "code",
   "execution_count": 86,
   "id": "d41ddb5d-0c69-4234-abb0-aa7430b5ee2f",
   "metadata": {},
   "outputs": [],
   "source": [
    "# Consulta GraphQL com variáveis pra pegar os entrantes de um evento\n",
    "query_entrantes = \"\"\"\n",
    "query EventStandings($eventId: ID!, $page: Int!, $perPage: Int!) {\n",
    "  event(id: $eventId) {\n",
    "    id\n",
    "    name\n",
    "    standings(query: {\n",
    "      perPage: $perPage,\n",
    "      page: $page\n",
    "    }){\n",
    "      nodes {\n",
    "        placement\n",
    "        entrant {\n",
    "          id\n",
    "          name\n",
    "        }\n",
    "      }\n",
    "    }\n",
    "  }\n",
    "}\n",
    "\"\"\"\n",
    "#Consulta GraphQL com variáveis pra pegar os owner de um evento\n",
    "\n",
    "query_id_owner = \"\"\"\n",
    "\n",
    "query TournamentOwner($slug: String!) {\n",
    "  tournament(slug: $slug) {\n",
    "    id\n",
    "    name\n",
    "    owner {\n",
    "      id\n",
    "      name\n",
    "    }\n",
    "  }\n",
    "}\n",
    "\n",
    "\"\"\"\n",
    "\n",
    "\n",
    "#Consulta GraphQL com variáveis pra pegar os eventos de um owner\n",
    "\n",
    "query_eventos_owner = \"\"\"\n",
    "\n",
    "query TournamentsByOwner($perPage: Int!, $ownerId: ID!) {\n",
    "    tournaments(query: {\n",
    "      perPage: $perPage\n",
    "      filter: {\n",
    "        ownerId: $ownerId\n",
    "      }\n",
    "    }) {\n",
    "    nodes {\n",
    "      id\n",
    "      name\n",
    "      slug\n",
    "    }\n",
    "  }\n",
    "},\n",
    "\"\"\"\n"
   ]
  },
  {
   "cell_type": "code",
   "execution_count": 144,
   "id": "512ad7d3-8d63-4a82-b7ed-091494fc9683",
   "metadata": {},
   "outputs": [
    {
     "name": "stdout",
     "output_type": "stream",
     "text": [
      "{\"data\":{\"tournaments\":{\"nodes\":[{\"id\":699958,\"name\":\"Taverna do Smash Setembro 2024\",\"slug\":\"tournament\\/taverna-do-smash-setembro-2024\"},{\"id\":688632,\"name\":\"Taverna do Smash Agosto 2024\",\"slug\":\"tournament\\/taverna-do-smash-agosto-2024\"},{\"id\":618644,\"name\":\"Dela\\u00e7\\u00e3o Premiada 2024\",\"slug\":\"tournament\\/dela-o-premiada-2024\"},{\"id\":618643,\"name\":\"Circuito Paulista de i-Smash Junho\\/2024\",\"slug\":\"tournament\\/circuito-paulista-de-i-smash-junho-2024\"},{\"id\":618642,\"name\":\"Circuito Paulista de i-Smash Maio\\/2024\",\"slug\":\"tournament\\/circuito-paulista-de-i-smash-maio-2024\"},{\"id\":618641,\"name\":\"Circuito Paulista de i-Smash Abril\\/2024\",\"slug\":\"tournament\\/circuito-paulista-de-i-smash-abril-2024\"},{\"id\":647452,\"name\":\"Opera\\u00e7\\u00e3o: O Verdadeiro 2\",\"slug\":\"tournament\\/opera-o-o-verdadeiro-2\"},{\"id\":618640,\"name\":\"Circuito Paulista de i-Smash Mar\\u00e7o\\/2024\",\"slug\":\"tournament\\/circuito-paulista-de-i-smash-mar-o-2024\"},{\"id\":618638,\"name\":\"Opera\\u00e7\\u00e3o: O Verdadeiro\",\"slug\":\"tournament\\/opera-o-o-verdadeiro\"},{\"id\":600156,\"name\":\"Sampex 2024\",\"slug\":\"tournament\\/sampex-2024\"}]}},\"extensions\":{\"cacheControl\":{\"version\":1,\"hints\":[{\"path\":[\"tournaments\"],\"maxAge\":600,\"scope\":\"PRIVATE\"}]},\"queryComplexity\":0},\"actionRecords\":[]}\n"
     ]
    }
   ],
   "source": [
    "# Variáveis que serão passadas na consulta\n",
    "variables = {\n",
    "  #\"eventId\": 618643,\n",
    "  \"page\": 1,\n",
    "  \"perPage\": 10,\n",
    "  \"ownerId\" : id_dede\n",
    "  #\"slug\": \"opera-o-o-verdadeiro-2\" \n",
    "}\n",
    "\n",
    "# Construir o payload da requisição\n",
    "payload = {\n",
    "    \"query\": query_eventos_owner,\n",
    "    \"variables\": variables\n",
    "}\n",
    "\n",
    "# Fazer a requisição POST com o corpo corretamente formatado\n",
    "response = requests.post(url, json=payload, headers=headers)\n",
    "\n",
    "# Exibir a resposta da API\n",
    "print(response.text)"
   ]
  },
  {
   "cell_type": "code",
   "execution_count": null,
   "id": "4511cda8-9f4b-424b-afa6-0d372c11d6af",
   "metadata": {},
   "outputs": [],
   "source": [
    "# Variáveis que serão passadas na consulta\n",
    "variables = {\n",
    "  \"eventId\": 618643,\n",
    "  \"page\": 1,\n",
    "  \"perPage\": 10,\n",
    "  \"ownerId\" : id_dede\n",
    "  #\"slug\": \"opera-o-o-verdadeiro-2\" \n",
    "}\n",
    "\n",
    "# Construir o payload da requisição\n",
    "payload = {\n",
    "    \"query\": query_eventos_owner,\n",
    "    \"variables\": variables\n",
    "}\n",
    "\n",
    "# Fazer a requisição POST com o corpo corretamente formatado\n",
    "response = requests.post(url, json=payload, headers=headers)\n",
    "\n",
    "# Exibir a resposta da API\n",
    "print(response.text)"
   ]
  },
  {
   "cell_type": "code",
   "execution_count": 145,
   "id": "0b267c62-9759-45a0-9e5d-93e7ba960481",
   "metadata": {},
   "outputs": [
    {
     "name": "stdout",
     "output_type": "stream",
     "text": [
      "{'data': {'tournaments': {'nodes': [{'id': 699958, 'name': 'Taverna do Smash Setembro 2024', 'slug': 'tournament/taverna-do-smash-setembro-2024'}, {'id': 688632, 'name': 'Taverna do Smash Agosto 2024', 'slug': 'tournament/taverna-do-smash-agosto-2024'}, {'id': 618644, 'name': 'Delação Premiada 2024', 'slug': 'tournament/dela-o-premiada-2024'}, {'id': 618643, 'name': 'Circuito Paulista de i-Smash Junho/2024', 'slug': 'tournament/circuito-paulista-de-i-smash-junho-2024'}, {'id': 618642, 'name': 'Circuito Paulista de i-Smash Maio/2024', 'slug': 'tournament/circuito-paulista-de-i-smash-maio-2024'}, {'id': 618641, 'name': 'Circuito Paulista de i-Smash Abril/2024', 'slug': 'tournament/circuito-paulista-de-i-smash-abril-2024'}, {'id': 647452, 'name': 'Operação: O Verdadeiro 2', 'slug': 'tournament/opera-o-o-verdadeiro-2'}, {'id': 618640, 'name': 'Circuito Paulista de i-Smash Março/2024', 'slug': 'tournament/circuito-paulista-de-i-smash-mar-o-2024'}, {'id': 618638, 'name': 'Operação: O Verdadeiro', 'slug': 'tournament/opera-o-o-verdadeiro'}, {'id': 600156, 'name': 'Sampex 2024', 'slug': 'tournament/sampex-2024'}]}}, 'extensions': {'cacheControl': {'version': 1, 'hints': [{'path': ['tournaments'], 'maxAge': 600, 'scope': 'PRIVATE'}]}, 'queryComplexity': 0}, 'actionRecords': []}\n"
     ]
    }
   ],
   "source": [
    "data = response.json()\n",
    "print(data)"
   ]
  },
  {
   "cell_type": "code",
   "execution_count": 136,
   "id": "96a0f6c0-beb0-4f60-826c-fcca299e5b38",
   "metadata": {},
   "outputs": [
    {
     "data": {
      "text/html": [
       "<div>\n",
       "<style scoped>\n",
       "    .dataframe tbody tr th:only-of-type {\n",
       "        vertical-align: middle;\n",
       "    }\n",
       "\n",
       "    .dataframe tbody tr th {\n",
       "        vertical-align: top;\n",
       "    }\n",
       "\n",
       "    .dataframe thead th {\n",
       "        text-align: right;\n",
       "    }\n",
       "</style>\n",
       "<table border=\"1\" class=\"dataframe\">\n",
       "  <thead>\n",
       "    <tr style=\"text-align: right;\">\n",
       "      <th></th>\n",
       "    </tr>\n",
       "  </thead>\n",
       "  <tbody>\n",
       "  </tbody>\n",
       "</table>\n",
       "</div>"
      ],
      "text/plain": [
       "Empty DataFrame\n",
       "Columns: []\n",
       "Index: []"
      ]
     },
     "execution_count": 136,
     "metadata": {},
     "output_type": "execute_result"
    }
   ],
   "source": [
    "standings = data['data']['event']['standings']['nodes']\n",
    "nome_evento = data['data'][\"event\"][\"name\"]\n",
    "id_evento = data['data'][\"event\"][\"id\"]\n",
    "\n",
    "#torneios = data[\"data\"][\"tournaments\"][\"nodes\"]\n",
    "\n",
    "df = pd.json_normalize(standings)\n",
    "\n",
    "#df[\"nome evento\"] = nome_evento \n",
    "#df[\"id evento\"] = id_evento\n",
    "\n",
    "df"
   ]
  },
  {
   "cell_type": "code",
   "execution_count": 118,
   "id": "33befee6-0f78-4fda-9630-e092ea0a2089",
   "metadata": {},
   "outputs": [
    {
     "data": {
      "text/plain": [
       "[699958,\n",
       " 688632,\n",
       " 618644,\n",
       " 618643,\n",
       " 618642,\n",
       " 618641,\n",
       " 647452,\n",
       " 618640,\n",
       " 618638,\n",
       " 600156]"
      ]
     },
     "execution_count": 118,
     "metadata": {},
     "output_type": "execute_result"
    }
   ],
   "source": [
    "ids_torneio = df[\"id\"].tolist()\n",
    "ids_torneio"
   ]
  },
  {
   "cell_type": "code",
   "execution_count": 148,
   "id": "3fbdd0d6-e2d0-4c5b-aafe-aebef62f05d1",
   "metadata": {},
   "outputs": [
    {
     "ename": "NameError",
     "evalue": "name 'all_standings' is not defined",
     "output_type": "error",
     "traceback": [
      "\u001b[1;31m---------------------------------------------------------------------------\u001b[0m",
      "\u001b[1;31mNameError\u001b[0m                                 Traceback (most recent call last)",
      "Cell \u001b[1;32mIn[148], line 29\u001b[0m\n\u001b[0;32m     26\u001b[0m         standing[\u001b[38;5;124m'\u001b[39m\u001b[38;5;124mevent_name\u001b[39m\u001b[38;5;124m'\u001b[39m] \u001b[38;5;241m=\u001b[39m data[\u001b[38;5;124m'\u001b[39m\u001b[38;5;124mdata\u001b[39m\u001b[38;5;124m'\u001b[39m][\u001b[38;5;124m'\u001b[39m\u001b[38;5;124mevent\u001b[39m\u001b[38;5;124m'\u001b[39m][\u001b[38;5;124m'\u001b[39m\u001b[38;5;124mname\u001b[39m\u001b[38;5;124m'\u001b[39m]\n\u001b[0;32m     28\u001b[0m     \u001b[38;5;66;03m# Adiciona os standings à lista total\u001b[39;00m\n\u001b[1;32m---> 29\u001b[0m     all_standings\u001b[38;5;241m.\u001b[39mextend(standings)\n\u001b[0;32m     30\u001b[0m \u001b[38;5;28;01melse\u001b[39;00m:\n\u001b[0;32m     31\u001b[0m     \u001b[38;5;28mprint\u001b[39m(\u001b[38;5;124mf\u001b[39m\u001b[38;5;124m\"\u001b[39m\u001b[38;5;124mErro: \u001b[39m\u001b[38;5;132;01m{\u001b[39;00mresponse\u001b[38;5;241m.\u001b[39mstatus_code\u001b[38;5;132;01m}\u001b[39;00m\u001b[38;5;124m, \u001b[39m\u001b[38;5;132;01m{\u001b[39;00mresponse\u001b[38;5;241m.\u001b[39mtext\u001b[38;5;132;01m}\u001b[39;00m\u001b[38;5;124m\"\u001b[39m)\n",
      "\u001b[1;31mNameError\u001b[0m: name 'all_standings' is not defined"
     ]
    }
   ],
   "source": [
    "dados = pd.DataFrame()\n",
    "\n",
    "for i in ids_torneio:\n",
    "    variables = {\n",
    "      \"eventId\": i,\n",
    "      \"page\": 1,\n",
    "      \"perPage\": 10,\n",
    "    } \n",
    "\n",
    "    payload = {\n",
    "        \"query\": query_entrantes,\n",
    "        \"variables\": variables\n",
    "    }\n",
    "    \n",
    "    # Fazer a requisição POST com o corpo corretamente formatado\n",
    "    response = requests.post(url, json=payload, headers=headers)\n",
    "\n",
    "    # Verificar se a requisição foi bem-sucedida\n",
    "    if response.status_code == 200:\n",
    "        data = response.json()\n",
    "        standings = data['data']['event']['standings']['nodes']\n",
    "        \n",
    "        # Adiciona uma coluna para o ID do torneio e nome\n",
    "        for standing in standings:\n",
    "            standing['event_id'] = data['data']['event']['id']\n",
    "            standing['event_name'] = data['data']['event']['name']\n",
    "        \n",
    "    else:\n",
    "        print(f\"Erro: {response.status_code}, {response.text}\")\n",
    "\n",
    "    data = response.json()\n",
    "    standings = data['data']['event']['standings']['nodes']\n",
    "    nome_evento = data['data'][\"event\"][\"name\"]\n",
    "    id_evento = data['data'][\"event\"][\"id\"]\n",
    "    \n",
    "    df = pd.json_normalize(standings)\n",
    "    \n",
    "    df[\"nome evento\"] = nome_evento \n",
    "    df[\"id evento\"] = id_evento\n",
    "\n",
    "    dados = pd.concat([dados,df])\n",
    "\n",
    "\n",
    "    \n",
    "display(dados)"
   ]
  },
  {
   "cell_type": "code",
   "execution_count": null,
   "id": "750470cd-ab30-42b6-b520-288ab0e0c0e2",
   "metadata": {},
   "outputs": [],
   "source": []
  }
 ],
 "metadata": {
  "kernelspec": {
   "display_name": "Python 3 (ipykernel)",
   "language": "python",
   "name": "python3"
  },
  "language_info": {
   "codemirror_mode": {
    "name": "ipython",
    "version": 3
   },
   "file_extension": ".py",
   "mimetype": "text/x-python",
   "name": "python",
   "nbconvert_exporter": "python",
   "pygments_lexer": "ipython3",
   "version": "3.11.7"
  }
 },
 "nbformat": 4,
 "nbformat_minor": 5
}
